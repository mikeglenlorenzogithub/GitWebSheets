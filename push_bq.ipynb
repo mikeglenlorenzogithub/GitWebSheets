{
 "cells": [
  {
   "cell_type": "code",
   "execution_count": 83,
   "metadata": {},
   "outputs": [],
   "source": [
    "import os\n",
    "from google.cloud import bigquery\n",
    "import pandas as pd\n",
    "from get_sheets import get_sheets"
   ]
  },
  {
   "cell_type": "code",
   "execution_count": 80,
   "metadata": {},
   "outputs": [],
   "source": [
    "sheet = get_sheets('reporting.json', 'REPORTING', f'Report_shopping_apparel_abahouse') "
   ]
  },
  {
   "cell_type": "code",
   "execution_count": 170,
   "metadata": {},
   "outputs": [],
   "source": [
    "df = pd.DataFrame(sheet.get_all_records())"
   ]
  },
  {
   "cell_type": "code",
   "execution_count": 169,
   "metadata": {},
   "outputs": [
    {
     "name": "stderr",
     "output_type": "stream",
     "text": [
      "100%|██████████| 1/1 [00:00<?, ?it/s]\n"
     ]
    }
   ],
   "source": [
    "project_id = \"glass-world-403808\"\n",
    "dataset_id = \"scrapingdata\"\n",
    "table_id = 'scrapingtry'\n",
    "client = bigquery.Client()\n",
    "\n",
    "os.environ[\"GOOGLE_APPLICATION_CREDENTIALS\"] = r\"C:\\Users\\HP\\Documents\\ARI\\Github\\GitWebSheets\\access_bq_scraping.json\"\n",
    "\n",
    "# from pandas.io import gbq\n",
    "temp_df = df.copy(deep=True).replace('','null')\n",
    "temp_df[['lat', 'lon']] = temp_df[['lat', 'lon']].astype(str)\n",
    "temp_df = temp_df[['url_store', 'store_name', 'brand', 'address', 'tel_no',\n",
    "                   'lat', 'lon', 'open_hours', 'holiday', 'parking', 'smoking',\n",
    "                   'additional_info1', 'additional_info2', 'scrape_date']]\n",
    "\n",
    "temp_df.to_gbq(destination_table=f'{dataset_id}.{table_id}',\n",
    "          project_id=project_id,\n",
    "          if_exists='append')\n"
   ]
  },
  {
   "cell_type": "code",
   "execution_count": null,
   "metadata": {},
   "outputs": [],
   "source": [
    "# PYTHON PANDAS METHOD\n",
    "table_ref = client.dataset(dataset_id).table(table_id)\n",
    "\n",
    "try:\n",
    "    query_job = client.load_table_from_dataframe(df, table_ref)\n",
    "    query_job.result()\n",
    "except:\n",
    "    query_job = client.create_table(table_ref)\n",
    "    query_job = client.load_table_from_dataframe(df, table_ref)\n",
    "    query_job.result()"
   ]
  },
  {
   "cell_type": "code",
   "execution_count": null,
   "metadata": {},
   "outputs": [],
   "source": [
    "# CLASSIC METHOD\n",
    "\n",
    "def load_gcs_to_bigquery_event_data(GCS_URI, TABLE_ID, table_schema):\n",
    "    job_config = bigquery.LoadJobConfig(\n",
    "        schema=table_schema,\n",
    "        source_format=bigquery.SourceFormat.CSV,\n",
    "        write_disposition = 'WRITE_TRUNCATE',\n",
    "        max_bad_records=100,\n",
    "        )\n",
    "    job_config.skip_leading_rows = 1\n",
    "    for row in GCS_URI:\n",
    "        load_job = client.load_table_from_file(\n",
    "            row, TABLE_ID, job_config=job_config\n",
    "        )\n",
    "    \n",
    "    load_job.result()\n",
    "    table = client.get_table(TABLE_ID)\n",
    "\n",
    "    print(\"Loaded {} rows to table {}\".format(table.num_rows, TABLE_ID))\n",
    "\n",
    "GCS_URI = csv_df\n",
    "full_table_id = \"{}.{}.{}\".format(project_id, dataset_id, table_id)\n",
    "client = bigquery.Client()\n",
    "\n",
    "table_schema = list(df.columns)\n",
    "bigquery_table_schema = [bigquery.SchemaField(x, \"STRING\") if x != 'scrape_date' and x !='registration_date' else bigquery.SchemaField(x, \"DATE\") for x in table_schema]\n",
    "\n",
    "# if __name__ == '__main__':\n",
    "#     load_gcs_to_bigquery_event_data(GCS_URI, full_table_id, bigquery_table_schema)\n",
    "\n",
    "\n",
    "# EXAMPLE QUERY METHOD\n",
    "# data_query = f\"\"\"\n",
    "#         CREATE OR REPLACE TABLE `{project_id}.{dataset_id}.{table_id}` AS\n",
    "#         SELECT *\n",
    "#         FROM `{project_id}.{dataset_id}.{table_id}`;\n",
    "#     \"\"\"\n",
    "\n",
    "# query_job = client.query(data_query)\n",
    "# query_job.result()"
   ]
  }
 ],
 "metadata": {
  "kernelspec": {
   "display_name": "Python 3",
   "language": "python",
   "name": "python3"
  },
  "language_info": {
   "codemirror_mode": {
    "name": "ipython",
    "version": 3
   },
   "file_extension": ".py",
   "mimetype": "text/x-python",
   "name": "python",
   "nbconvert_exporter": "python",
   "pygments_lexer": "ipython3",
   "version": "3.10.9"
  }
 },
 "nbformat": 4,
 "nbformat_minor": 2
}
